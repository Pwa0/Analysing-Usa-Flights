{
 "cells": [
  {
   "cell_type": "markdown",
   "metadata": {},
   "source": [
    "# Vluchtenanalyse\n",
    "In dit Jupyter Notebook ga je een dataset van vluchten opschonen, en ontbrekende gegevens aanvullen in een dataset van luchthavens. Later in het level ga je deze datasets linken en plotten op een kaart."
   ]
  },
  {
   "cell_type": "markdown",
   "metadata": {},
   "source": [
    "## 1. Data inlezen\n",
    "Lees de aangeleverde data in met pandas. Krijg een indruk van de data door de head te bekijken en het aantal datapunten te printen."
   ]
  },
  {
   "cell_type": "code",
   "execution_count": 1,
   "metadata": {},
   "outputs": [],
   "source": [
    "import pandas as pd"
   ]
  },
  {
   "cell_type": "markdown",
   "metadata": {},
   "source": [
    "We beginnen met het bestand `flights_usa.csv`."
   ]
  },
  {
   "cell_type": "code",
   "execution_count": 2,
   "metadata": {},
   "outputs": [
    {
     "data": {
      "text/html": [
       "<div>\n",
       "<style scoped>\n",
       "    .dataframe tbody tr th:only-of-type {\n",
       "        vertical-align: middle;\n",
       "    }\n",
       "\n",
       "    .dataframe tbody tr th {\n",
       "        vertical-align: top;\n",
       "    }\n",
       "\n",
       "    .dataframe thead th {\n",
       "        text-align: right;\n",
       "    }\n",
       "</style>\n",
       "<table border=\"1\" class=\"dataframe\">\n",
       "  <thead>\n",
       "    <tr style=\"text-align: right;\">\n",
       "      <th></th>\n",
       "      <th>YEAR</th>\n",
       "      <th>MONTH</th>\n",
       "      <th>DAY</th>\n",
       "      <th>DAY_OF_WEEK</th>\n",
       "      <th>AIRLINE</th>\n",
       "      <th>FLIGHT_NUMBER</th>\n",
       "      <th>TAIL_NUMBER</th>\n",
       "      <th>ORIGIN_AIRPORT</th>\n",
       "      <th>DESTINATION_AIRPORT</th>\n",
       "      <th>SCHEDULED_DEPARTURE</th>\n",
       "      <th>...</th>\n",
       "      <th>WHEELS_OFF</th>\n",
       "      <th>AIR_TIME</th>\n",
       "      <th>DISTANCE</th>\n",
       "      <th>TAXI_IN</th>\n",
       "      <th>SCHEDULED_ARRIVAL</th>\n",
       "      <th>ARRIVAL_TIME</th>\n",
       "      <th>ARRIVAL_DELAY</th>\n",
       "      <th>DIVERTED</th>\n",
       "      <th>CANCELLED</th>\n",
       "      <th>CANCELLATION_REASON</th>\n",
       "    </tr>\n",
       "  </thead>\n",
       "  <tbody>\n",
       "    <tr>\n",
       "      <th>0</th>\n",
       "      <td>2015</td>\n",
       "      <td>1</td>\n",
       "      <td>1</td>\n",
       "      <td>4</td>\n",
       "      <td>NK</td>\n",
       "      <td>612</td>\n",
       "      <td>N635NK</td>\n",
       "      <td>LAS</td>\n",
       "      <td>MSP</td>\n",
       "      <td>25</td>\n",
       "      <td>...</td>\n",
       "      <td>30.0</td>\n",
       "      <td>154.0</td>\n",
       "      <td>1299</td>\n",
       "      <td>5.0</td>\n",
       "      <td>526</td>\n",
       "      <td>509.0</td>\n",
       "      <td>-17.0</td>\n",
       "      <td>0</td>\n",
       "      <td>0</td>\n",
       "      <td>NaN</td>\n",
       "    </tr>\n",
       "    <tr>\n",
       "      <th>1</th>\n",
       "      <td>2015</td>\n",
       "      <td>1</td>\n",
       "      <td>1</td>\n",
       "      <td>4</td>\n",
       "      <td>AA</td>\n",
       "      <td>2392</td>\n",
       "      <td>N3HRAA</td>\n",
       "      <td>DEN</td>\n",
       "      <td>MIA</td>\n",
       "      <td>120</td>\n",
       "      <td>...</td>\n",
       "      <td>153.0</td>\n",
       "      <td>188.0</td>\n",
       "      <td>1709</td>\n",
       "      <td>8.0</td>\n",
       "      <td>707</td>\n",
       "      <td>709.0</td>\n",
       "      <td>2.0</td>\n",
       "      <td>0</td>\n",
       "      <td>0</td>\n",
       "      <td>NaN</td>\n",
       "    </tr>\n",
       "    <tr>\n",
       "      <th>2</th>\n",
       "      <td>2015</td>\n",
       "      <td>1</td>\n",
       "      <td>1</td>\n",
       "      <td>4</td>\n",
       "      <td>NK</td>\n",
       "      <td>168</td>\n",
       "      <td>N629NK</td>\n",
       "      <td>PHX</td>\n",
       "      <td>ORD</td>\n",
       "      <td>125</td>\n",
       "      <td>...</td>\n",
       "      <td>246.0</td>\n",
       "      <td>156.0</td>\n",
       "      <td>1440</td>\n",
       "      <td>10.0</td>\n",
       "      <td>549</td>\n",
       "      <td>632.0</td>\n",
       "      <td>43.0</td>\n",
       "      <td>0</td>\n",
       "      <td>0</td>\n",
       "      <td>NaN</td>\n",
       "    </tr>\n",
       "    <tr>\n",
       "      <th>3</th>\n",
       "      <td>2015</td>\n",
       "      <td>1</td>\n",
       "      <td>1</td>\n",
       "      <td>4</td>\n",
       "      <td>DL</td>\n",
       "      <td>941</td>\n",
       "      <td>N910DN</td>\n",
       "      <td>MCI</td>\n",
       "      <td>NaN</td>\n",
       "      <td>540</td>\n",
       "      <td>...</td>\n",
       "      <td>557.0</td>\n",
       "      <td>84.0</td>\n",
       "      <td>692</td>\n",
       "      <td>6.0</td>\n",
       "      <td>842</td>\n",
       "      <td>827.0</td>\n",
       "      <td>-15.0</td>\n",
       "      <td>0</td>\n",
       "      <td>0</td>\n",
       "      <td>NaN</td>\n",
       "    </tr>\n",
       "    <tr>\n",
       "      <th>4</th>\n",
       "      <td>2015</td>\n",
       "      <td>1</td>\n",
       "      <td>1</td>\n",
       "      <td>4</td>\n",
       "      <td>AA</td>\n",
       "      <td>1205</td>\n",
       "      <td>N3FKAA</td>\n",
       "      <td>EWR</td>\n",
       "      <td>MIA</td>\n",
       "      <td>559</td>\n",
       "      <td>...</td>\n",
       "      <td>614.0</td>\n",
       "      <td>149.0</td>\n",
       "      <td>1085</td>\n",
       "      <td>6.0</td>\n",
       "      <td>902</td>\n",
       "      <td>849.0</td>\n",
       "      <td>-13.0</td>\n",
       "      <td>0</td>\n",
       "      <td>0</td>\n",
       "      <td>NaN</td>\n",
       "    </tr>\n",
       "  </tbody>\n",
       "</table>\n",
       "<p>5 rows × 23 columns</p>\n",
       "</div>"
      ],
      "text/plain": [
       "   YEAR  MONTH  DAY  DAY_OF_WEEK AIRLINE  FLIGHT_NUMBER TAIL_NUMBER  \\\n",
       "0  2015      1    1            4      NK            612      N635NK   \n",
       "1  2015      1    1            4      AA           2392      N3HRAA   \n",
       "2  2015      1    1            4      NK            168      N629NK   \n",
       "3  2015      1    1            4      DL            941      N910DN   \n",
       "4  2015      1    1            4      AA           1205      N3FKAA   \n",
       "\n",
       "  ORIGIN_AIRPORT DESTINATION_AIRPORT  SCHEDULED_DEPARTURE  ...  WHEELS_OFF  \\\n",
       "0            LAS                 MSP                   25  ...        30.0   \n",
       "1            DEN                 MIA                  120  ...       153.0   \n",
       "2            PHX                 ORD                  125  ...       246.0   \n",
       "3            MCI                 NaN                  540  ...       557.0   \n",
       "4            EWR                 MIA                  559  ...       614.0   \n",
       "\n",
       "   AIR_TIME  DISTANCE  TAXI_IN  SCHEDULED_ARRIVAL  ARRIVAL_TIME  \\\n",
       "0     154.0      1299      5.0                526         509.0   \n",
       "1     188.0      1709      8.0                707         709.0   \n",
       "2     156.0      1440     10.0                549         632.0   \n",
       "3      84.0       692      6.0                842         827.0   \n",
       "4     149.0      1085      6.0                902         849.0   \n",
       "\n",
       "   ARRIVAL_DELAY  DIVERTED  CANCELLED  CANCELLATION_REASON  \n",
       "0          -17.0         0          0                  NaN  \n",
       "1            2.0         0          0                  NaN  \n",
       "2           43.0         0          0                  NaN  \n",
       "3          -15.0         0          0                  NaN  \n",
       "4          -13.0         0          0                  NaN  \n",
       "\n",
       "[5 rows x 23 columns]"
      ]
     },
     "execution_count": 2,
     "metadata": {},
     "output_type": "execute_result"
    }
   ],
   "source": [
    "flights_usa = pd.read_csv(\"flights_usa.csv\")\n",
    "airports_usa = pd.read_csv(\"airports_usa.csv\")\n",
    "flights_usa.head()\n"
   ]
  },
  {
   "cell_type": "markdown",
   "metadata": {},
   "source": [
    "De eerste 5 van onze tweede dataframe staat hieronder"
   ]
  },
  {
   "cell_type": "code",
   "execution_count": 3,
   "metadata": {},
   "outputs": [
    {
     "data": {
      "text/html": [
       "<div>\n",
       "<style scoped>\n",
       "    .dataframe tbody tr th:only-of-type {\n",
       "        vertical-align: middle;\n",
       "    }\n",
       "\n",
       "    .dataframe tbody tr th {\n",
       "        vertical-align: top;\n",
       "    }\n",
       "\n",
       "    .dataframe thead th {\n",
       "        text-align: right;\n",
       "    }\n",
       "</style>\n",
       "<table border=\"1\" class=\"dataframe\">\n",
       "  <thead>\n",
       "    <tr style=\"text-align: right;\">\n",
       "      <th></th>\n",
       "      <th>IATA_CODE</th>\n",
       "      <th>AIRPORT</th>\n",
       "      <th>CITY</th>\n",
       "      <th>STATE</th>\n",
       "      <th>COUNTRY</th>\n",
       "      <th>LATITUDE</th>\n",
       "      <th>LONGITUDE</th>\n",
       "    </tr>\n",
       "  </thead>\n",
       "  <tbody>\n",
       "    <tr>\n",
       "      <th>0</th>\n",
       "      <td>ABE</td>\n",
       "      <td>Lehigh Valley International Airport</td>\n",
       "      <td>Allentown</td>\n",
       "      <td>PA</td>\n",
       "      <td>USA</td>\n",
       "      <td>40.65236</td>\n",
       "      <td>-75.44040</td>\n",
       "    </tr>\n",
       "    <tr>\n",
       "      <th>1</th>\n",
       "      <td>ABI</td>\n",
       "      <td>Abilene Regional Airport</td>\n",
       "      <td>Abilene</td>\n",
       "      <td>TX</td>\n",
       "      <td>USA</td>\n",
       "      <td>32.41132</td>\n",
       "      <td>-99.68190</td>\n",
       "    </tr>\n",
       "    <tr>\n",
       "      <th>2</th>\n",
       "      <td>ABQ</td>\n",
       "      <td>Albuquerque International Sunport</td>\n",
       "      <td>Albuquerque</td>\n",
       "      <td>NM</td>\n",
       "      <td>USA</td>\n",
       "      <td>35.04022</td>\n",
       "      <td>-106.60919</td>\n",
       "    </tr>\n",
       "    <tr>\n",
       "      <th>3</th>\n",
       "      <td>ABR</td>\n",
       "      <td>Aberdeen Regional Airport</td>\n",
       "      <td>Aberdeen</td>\n",
       "      <td>SD</td>\n",
       "      <td>USA</td>\n",
       "      <td>45.44906</td>\n",
       "      <td>-98.42183</td>\n",
       "    </tr>\n",
       "    <tr>\n",
       "      <th>4</th>\n",
       "      <td>ABY</td>\n",
       "      <td>Southwest Georgia Regional Airport</td>\n",
       "      <td>Albany</td>\n",
       "      <td>GA</td>\n",
       "      <td>USA</td>\n",
       "      <td>31.53552</td>\n",
       "      <td>-84.19447</td>\n",
       "    </tr>\n",
       "  </tbody>\n",
       "</table>\n",
       "</div>"
      ],
      "text/plain": [
       "  IATA_CODE                              AIRPORT         CITY STATE COUNTRY  \\\n",
       "0       ABE  Lehigh Valley International Airport    Allentown    PA     USA   \n",
       "1       ABI             Abilene Regional Airport      Abilene    TX     USA   \n",
       "2       ABQ    Albuquerque International Sunport  Albuquerque    NM     USA   \n",
       "3       ABR            Aberdeen Regional Airport     Aberdeen    SD     USA   \n",
       "4       ABY   Southwest Georgia Regional Airport       Albany    GA     USA   \n",
       "\n",
       "   LATITUDE  LONGITUDE  \n",
       "0  40.65236  -75.44040  \n",
       "1  32.41132  -99.68190  \n",
       "2  35.04022 -106.60919  \n",
       "3  45.44906  -98.42183  \n",
       "4  31.53552  -84.19447  "
      ]
     },
     "execution_count": 3,
     "metadata": {},
     "output_type": "execute_result"
    }
   ],
   "source": [
    "airports_usa.head()"
   ]
  },
  {
   "cell_type": "markdown",
   "metadata": {},
   "source": [
    "Het aantal datapoints voor cleaning staat hieronder"
   ]
  },
  {
   "cell_type": "code",
   "execution_count": 4,
   "metadata": {},
   "outputs": [
    {
     "data": {
      "text/plain": [
       "112076"
      ]
     },
     "execution_count": 4,
     "metadata": {},
     "output_type": "execute_result"
    }
   ],
   "source": [
    "len(flights_usa)"
   ]
  },
  {
   "cell_type": "markdown",
   "metadata": {},
   "source": [
    "## 2. Data cleaning\n",
    "\n",
    "De datasets bevatten momenteel gebrekkige data waar je niet mee kunt werken. Dus ga je ontbrekende gegevens aanvullen, en incomplete data verwijderen.\n",
    "\n",
    "We willen weten of er ontbrekende informatie is in de aankomst vliegvelden."
   ]
  },
  {
   "cell_type": "code",
   "execution_count": 5,
   "metadata": {
    "scrolled": true
   },
   "outputs": [
    {
     "data": {
      "text/plain": [
       "True"
      ]
     },
     "execution_count": 5,
     "metadata": {},
     "output_type": "execute_result"
    }
   ],
   "source": [
    "flights_usa[\"DESTINATION_AIRPORT\"].isna().any()\n"
   ]
  },
  {
   "cell_type": "markdown",
   "metadata": {},
   "source": [
    "We zien dat er ontbrekende values zijn. Het percentage ervan zien we hieronder."
   ]
  },
  {
   "cell_type": "code",
   "execution_count": 6,
   "metadata": {},
   "outputs": [
    {
     "data": {
      "text/plain": [
       "4.2141047146579105"
      ]
     },
     "execution_count": 6,
     "metadata": {},
     "output_type": "execute_result"
    }
   ],
   "source": [
    "flights_usa[\"DESTINATION_AIRPORT\"].isna().sum() / len(flights_usa) * 100"
   ]
  },
  {
   "cell_type": "markdown",
   "metadata": {},
   "source": [
    "Aan geen aankomst vliegveld hebben we niks dus we halen die rows uit onze dataframe zodat er geen misverstanden ontstaan later."
   ]
  },
  {
   "cell_type": "code",
   "execution_count": 7,
   "metadata": {},
   "outputs": [
    {
     "data": {
      "text/plain": [
       "0         MSP\n",
       "1         MIA\n",
       "2         ORD\n",
       "4         MIA\n",
       "5         ORD\n",
       "         ... \n",
       "112071    JFK\n",
       "112072    BOS\n",
       "112073    JFK\n",
       "112074    ORD\n",
       "112075    DEN\n",
       "Name: DESTINATION_AIRPORT, Length: 107353, dtype: object"
      ]
     },
     "execution_count": 7,
     "metadata": {},
     "output_type": "execute_result"
    }
   ],
   "source": [
    "flights_usa[\"DESTINATION_AIRPORT\"].dropna()\n"
   ]
  },
  {
   "cell_type": "markdown",
   "metadata": {},
   "source": [
    "Hieronder verwijderen we de gecancelde vluchten "
   ]
  },
  {
   "cell_type": "code",
   "execution_count": 8,
   "metadata": {},
   "outputs": [],
   "source": [
    "flights_usa = flights_usa[flights_usa.CANCELLED != 1]\n"
   ]
  },
  {
   "cell_type": "markdown",
   "metadata": {},
   "source": [
    "Zoals je ziet zijn er nu minder datapoints in onze dataframe"
   ]
  },
  {
   "cell_type": "code",
   "execution_count": 9,
   "metadata": {},
   "outputs": [
    {
     "data": {
      "text/plain": [
       "110282"
      ]
     },
     "execution_count": 9,
     "metadata": {},
     "output_type": "execute_result"
    }
   ],
   "source": [
    "len(flights_usa)"
   ]
  },
  {
   "cell_type": "markdown",
   "metadata": {},
   "source": [
    "## Voor de vliegvelden\n",
    "Net zoals de vluchten moeten we de verkeerde data verwijderen."
   ]
  },
  {
   "cell_type": "code",
   "execution_count": 10,
   "metadata": {},
   "outputs": [
    {
     "data": {
      "text/plain": [
       "1"
      ]
     },
     "execution_count": 10,
     "metadata": {},
     "output_type": "execute_result"
    }
   ],
   "source": [
    "airports_usa[\"LATITUDE\"].isna().sum()"
   ]
  },
  {
   "cell_type": "markdown",
   "metadata": {},
   "source": [
    "We stoppen alle datapoints met NaN bij de LATITUDE of LONGITUDE in een andere dataframe. Hiermee kunnen we kijken wat de row number is."
   ]
  },
  {
   "cell_type": "code",
   "execution_count": 11,
   "metadata": {},
   "outputs": [
    {
     "data": {
      "text/html": [
       "<div>\n",
       "<style scoped>\n",
       "    .dataframe tbody tr th:only-of-type {\n",
       "        vertical-align: middle;\n",
       "    }\n",
       "\n",
       "    .dataframe tbody tr th {\n",
       "        vertical-align: top;\n",
       "    }\n",
       "\n",
       "    .dataframe thead th {\n",
       "        text-align: right;\n",
       "    }\n",
       "</style>\n",
       "<table border=\"1\" class=\"dataframe\">\n",
       "  <thead>\n",
       "    <tr style=\"text-align: right;\">\n",
       "      <th></th>\n",
       "      <th>IATA_CODE</th>\n",
       "      <th>AIRPORT</th>\n",
       "      <th>CITY</th>\n",
       "      <th>STATE</th>\n",
       "      <th>COUNTRY</th>\n",
       "      <th>LATITUDE</th>\n",
       "      <th>LONGITUDE</th>\n",
       "    </tr>\n",
       "  </thead>\n",
       "  <tbody>\n",
       "    <tr>\n",
       "      <th>276</th>\n",
       "      <td>SFO</td>\n",
       "      <td>San Francisco International Airport</td>\n",
       "      <td>San Francisco</td>\n",
       "      <td>CA</td>\n",
       "      <td>USA</td>\n",
       "      <td>NaN</td>\n",
       "      <td>NaN</td>\n",
       "    </tr>\n",
       "  </tbody>\n",
       "</table>\n",
       "</div>"
      ],
      "text/plain": [
       "    IATA_CODE                              AIRPORT           CITY STATE  \\\n",
       "276       SFO  San Francisco International Airport  San Francisco    CA   \n",
       "\n",
       "    COUNTRY  LATITUDE  LONGITUDE  \n",
       "276     USA       NaN        NaN  "
      ]
     },
     "execution_count": 11,
     "metadata": {},
     "output_type": "execute_result"
    }
   ],
   "source": [
    "df1 = airports_usa[airports_usa.isna().any(axis=1)]\n",
    "df1"
   ]
  },
  {
   "cell_type": "markdown",
   "metadata": {},
   "source": [
    "We vervangen de NaN values met de daadwerkelijke values van het desbetreffende vliegveld."
   ]
  },
  {
   "cell_type": "code",
   "execution_count": 12,
   "metadata": {},
   "outputs": [
    {
     "data": {
      "text/plain": [
       "IATA_CODE                                    SFO\n",
       "AIRPORT      San Francisco International Airport\n",
       "CITY                               San Francisco\n",
       "STATE                                         CA\n",
       "COUNTRY                                      USA\n",
       "LATITUDE                               37.615223\n",
       "LONGITUDE                            -122.389977\n",
       "Name: 276, dtype: object"
      ]
     },
     "execution_count": 12,
     "metadata": {},
     "output_type": "execute_result"
    }
   ],
   "source": [
    "airports_usa.at[276, 'LATITUDE'] = 37.615223\n",
    "airports_usa.loc[276, 'LONGITUDE'] = -122.389977\n",
    "airports_usa.loc[airports_usa.index[276]]\n"
   ]
  },
  {
   "cell_type": "markdown",
   "metadata": {},
   "source": [
    "## 3. Data linken\n",
    "\n",
    "Exercise 3: combineer de twee datasets.\n",
    "we maken de flights_usa dataset kleiner zodat we hem kunnen toevoegen aan de airport dataset."
   ]
  },
  {
   "cell_type": "code",
   "execution_count": 13,
   "metadata": {},
   "outputs": [],
   "source": [
    "flights_usa = flights_usa.groupby(\"DESTINATION_AIRPORT\").size().to_frame().reset_index()\n",
    "flights_usa = flights_usa.rename(columns={\"DESTINATION_AIRPORT\" :\"IATA_CODE\", 0: \"ARRIVING_FLIGHTS\"})\n",
    "\n"
   ]
  },
  {
   "cell_type": "markdown",
   "metadata": {},
   "source": [
    "We zorgen ervoor dat beide datasets evenlang zijn en dat er geen fouten zitten in de beide datasets."
   ]
  },
  {
   "cell_type": "code",
   "execution_count": 14,
   "metadata": {},
   "outputs": [
    {
     "data": {
      "text/html": [
       "<div>\n",
       "<style scoped>\n",
       "    .dataframe tbody tr th:only-of-type {\n",
       "        vertical-align: middle;\n",
       "    }\n",
       "\n",
       "    .dataframe tbody tr th {\n",
       "        vertical-align: top;\n",
       "    }\n",
       "\n",
       "    .dataframe thead th {\n",
       "        text-align: right;\n",
       "    }\n",
       "</style>\n",
       "<table border=\"1\" class=\"dataframe\">\n",
       "  <thead>\n",
       "    <tr style=\"text-align: right;\">\n",
       "      <th></th>\n",
       "      <th>IATA_CODE</th>\n",
       "      <th>AIRPORT</th>\n",
       "      <th>CITY</th>\n",
       "      <th>STATE</th>\n",
       "      <th>COUNTRY</th>\n",
       "      <th>LATITUDE</th>\n",
       "      <th>LONGITUDE</th>\n",
       "      <th>ARRIVING_FLIGHTS</th>\n",
       "    </tr>\n",
       "  </thead>\n",
       "  <tbody>\n",
       "    <tr>\n",
       "      <th>20</th>\n",
       "      <td>ATL</td>\n",
       "      <td>Hartsfield-Jackson Atlanta International Airport</td>\n",
       "      <td>Atlanta</td>\n",
       "      <td>GA</td>\n",
       "      <td>USA</td>\n",
       "      <td>33.640440</td>\n",
       "      <td>-84.426940</td>\n",
       "      <td>18194</td>\n",
       "    </tr>\n",
       "    <tr>\n",
       "      <th>22</th>\n",
       "      <td>AUS</td>\n",
       "      <td>Austin-Bergstrom International Airport</td>\n",
       "      <td>Austin</td>\n",
       "      <td>TX</td>\n",
       "      <td>USA</td>\n",
       "      <td>30.194530</td>\n",
       "      <td>-97.669870</td>\n",
       "      <td>2254</td>\n",
       "    </tr>\n",
       "    <tr>\n",
       "      <th>27</th>\n",
       "      <td>BET</td>\n",
       "      <td>Bethel Airport</td>\n",
       "      <td>Bethel</td>\n",
       "      <td>AK</td>\n",
       "      <td>USA</td>\n",
       "      <td>60.779780</td>\n",
       "      <td>-161.838000</td>\n",
       "      <td>46</td>\n",
       "    </tr>\n",
       "    <tr>\n",
       "      <th>38</th>\n",
       "      <td>BOI</td>\n",
       "      <td>Boise Airport (Boise Air Terminal)</td>\n",
       "      <td>Boise</td>\n",
       "      <td>ID</td>\n",
       "      <td>USA</td>\n",
       "      <td>43.564440</td>\n",
       "      <td>-116.222780</td>\n",
       "      <td>599</td>\n",
       "    </tr>\n",
       "    <tr>\n",
       "      <th>39</th>\n",
       "      <td>BOS</td>\n",
       "      <td>Gen. Edward Lawrence Logan International Airport</td>\n",
       "      <td>Boston</td>\n",
       "      <td>MA</td>\n",
       "      <td>USA</td>\n",
       "      <td>42.364350</td>\n",
       "      <td>-71.005180</td>\n",
       "      <td>5465</td>\n",
       "    </tr>\n",
       "    <tr>\n",
       "      <th>85</th>\n",
       "      <td>DEN</td>\n",
       "      <td>Denver International Airport</td>\n",
       "      <td>Denver</td>\n",
       "      <td>CO</td>\n",
       "      <td>USA</td>\n",
       "      <td>39.858410</td>\n",
       "      <td>-104.667000</td>\n",
       "      <td>10114</td>\n",
       "    </tr>\n",
       "    <tr>\n",
       "      <th>140</th>\n",
       "      <td>HNL</td>\n",
       "      <td>Honolulu International Airport</td>\n",
       "      <td>Honolulu</td>\n",
       "      <td>HI</td>\n",
       "      <td>USA</td>\n",
       "      <td>21.318690</td>\n",
       "      <td>-157.922410</td>\n",
       "      <td>2316</td>\n",
       "    </tr>\n",
       "    <tr>\n",
       "      <th>165</th>\n",
       "      <td>JFK</td>\n",
       "      <td>John F. Kennedy International Airport (New Yor...</td>\n",
       "      <td>New York</td>\n",
       "      <td>NY</td>\n",
       "      <td>USA</td>\n",
       "      <td>40.639750</td>\n",
       "      <td>-73.778930</td>\n",
       "      <td>4718</td>\n",
       "    </tr>\n",
       "    <tr>\n",
       "      <th>173</th>\n",
       "      <td>LAS</td>\n",
       "      <td>McCarran International Airport</td>\n",
       "      <td>Las Vegas</td>\n",
       "      <td>NV</td>\n",
       "      <td>USA</td>\n",
       "      <td>36.080360</td>\n",
       "      <td>-115.152330</td>\n",
       "      <td>6876</td>\n",
       "    </tr>\n",
       "    <tr>\n",
       "      <th>181</th>\n",
       "      <td>LGA</td>\n",
       "      <td>LaGuardia Airport (Marine Air Terminal)</td>\n",
       "      <td>New York</td>\n",
       "      <td>NY</td>\n",
       "      <td>USA</td>\n",
       "      <td>40.777240</td>\n",
       "      <td>-73.872610</td>\n",
       "      <td>4984</td>\n",
       "    </tr>\n",
       "    <tr>\n",
       "      <th>194</th>\n",
       "      <td>MDW</td>\n",
       "      <td>Chicago Midway International Airport</td>\n",
       "      <td>Chicago</td>\n",
       "      <td>IL</td>\n",
       "      <td>USA</td>\n",
       "      <td>41.785980</td>\n",
       "      <td>-87.752420</td>\n",
       "      <td>4115</td>\n",
       "    </tr>\n",
       "    <tr>\n",
       "      <th>202</th>\n",
       "      <td>MIA</td>\n",
       "      <td>Miami International Airport</td>\n",
       "      <td>Miami</td>\n",
       "      <td>FL</td>\n",
       "      <td>USA</td>\n",
       "      <td>25.793250</td>\n",
       "      <td>-80.290560</td>\n",
       "      <td>3656</td>\n",
       "    </tr>\n",
       "    <tr>\n",
       "      <th>215</th>\n",
       "      <td>MSP</td>\n",
       "      <td>Minneapolis-Saint Paul International Airport</td>\n",
       "      <td>Minneapolis</td>\n",
       "      <td>MN</td>\n",
       "      <td>USA</td>\n",
       "      <td>44.880550</td>\n",
       "      <td>-93.216920</td>\n",
       "      <td>5751</td>\n",
       "    </tr>\n",
       "    <tr>\n",
       "      <th>216</th>\n",
       "      <td>MSY</td>\n",
       "      <td>Louis Armstrong New Orleans International Airport</td>\n",
       "      <td>New Orleans</td>\n",
       "      <td>LA</td>\n",
       "      <td>USA</td>\n",
       "      <td>29.993390</td>\n",
       "      <td>-90.258030</td>\n",
       "      <td>2094</td>\n",
       "    </tr>\n",
       "    <tr>\n",
       "      <th>227</th>\n",
       "      <td>ORD</td>\n",
       "      <td>Chicago O'Hare International Airport</td>\n",
       "      <td>Chicago</td>\n",
       "      <td>IL</td>\n",
       "      <td>USA</td>\n",
       "      <td>41.979600</td>\n",
       "      <td>-87.904460</td>\n",
       "      <td>14488</td>\n",
       "    </tr>\n",
       "    <tr>\n",
       "      <th>275</th>\n",
       "      <td>SEA</td>\n",
       "      <td>Seattle-Tacoma International Airport</td>\n",
       "      <td>Seattle</td>\n",
       "      <td>WA</td>\n",
       "      <td>USA</td>\n",
       "      <td>47.448980</td>\n",
       "      <td>-122.309310</td>\n",
       "      <td>5890</td>\n",
       "    </tr>\n",
       "    <tr>\n",
       "      <th>276</th>\n",
       "      <td>SFO</td>\n",
       "      <td>San Francisco International Airport</td>\n",
       "      <td>San Francisco</td>\n",
       "      <td>CA</td>\n",
       "      <td>USA</td>\n",
       "      <td>37.615223</td>\n",
       "      <td>-122.389977</td>\n",
       "      <td>7581</td>\n",
       "    </tr>\n",
       "    <tr>\n",
       "      <th>283</th>\n",
       "      <td>SJU</td>\n",
       "      <td>Luis Muñoz Marín International Airport</td>\n",
       "      <td>San Juan</td>\n",
       "      <td>PR</td>\n",
       "      <td>USA</td>\n",
       "      <td>18.439420</td>\n",
       "      <td>-66.001830</td>\n",
       "      <td>1276</td>\n",
       "    </tr>\n",
       "    <tr>\n",
       "      <th>284</th>\n",
       "      <td>SLC</td>\n",
       "      <td>Salt Lake City International Airport</td>\n",
       "      <td>Salt Lake City</td>\n",
       "      <td>UT</td>\n",
       "      <td>USA</td>\n",
       "      <td>40.788390</td>\n",
       "      <td>-111.977770</td>\n",
       "      <td>4968</td>\n",
       "    </tr>\n",
       "  </tbody>\n",
       "</table>\n",
       "</div>"
      ],
      "text/plain": [
       "    IATA_CODE                                            AIRPORT  \\\n",
       "20        ATL   Hartsfield-Jackson Atlanta International Airport   \n",
       "22        AUS             Austin-Bergstrom International Airport   \n",
       "27        BET                                     Bethel Airport   \n",
       "38        BOI                 Boise Airport (Boise Air Terminal)   \n",
       "39        BOS   Gen. Edward Lawrence Logan International Airport   \n",
       "85        DEN                       Denver International Airport   \n",
       "140       HNL                     Honolulu International Airport   \n",
       "165       JFK  John F. Kennedy International Airport (New Yor...   \n",
       "173       LAS                     McCarran International Airport   \n",
       "181       LGA            LaGuardia Airport (Marine Air Terminal)   \n",
       "194       MDW               Chicago Midway International Airport   \n",
       "202       MIA                        Miami International Airport   \n",
       "215       MSP       Minneapolis-Saint Paul International Airport   \n",
       "216       MSY  Louis Armstrong New Orleans International Airport   \n",
       "227       ORD               Chicago O'Hare International Airport   \n",
       "275       SEA               Seattle-Tacoma International Airport   \n",
       "276       SFO                San Francisco International Airport   \n",
       "283       SJU             Luis Muñoz Marín International Airport   \n",
       "284       SLC               Salt Lake City International Airport   \n",
       "\n",
       "               CITY STATE COUNTRY   LATITUDE   LONGITUDE  ARRIVING_FLIGHTS  \n",
       "20          Atlanta    GA     USA  33.640440  -84.426940             18194  \n",
       "22           Austin    TX     USA  30.194530  -97.669870              2254  \n",
       "27           Bethel    AK     USA  60.779780 -161.838000                46  \n",
       "38            Boise    ID     USA  43.564440 -116.222780               599  \n",
       "39           Boston    MA     USA  42.364350  -71.005180              5465  \n",
       "85           Denver    CO     USA  39.858410 -104.667000             10114  \n",
       "140        Honolulu    HI     USA  21.318690 -157.922410              2316  \n",
       "165        New York    NY     USA  40.639750  -73.778930              4718  \n",
       "173       Las Vegas    NV     USA  36.080360 -115.152330              6876  \n",
       "181        New York    NY     USA  40.777240  -73.872610              4984  \n",
       "194         Chicago    IL     USA  41.785980  -87.752420              4115  \n",
       "202           Miami    FL     USA  25.793250  -80.290560              3656  \n",
       "215     Minneapolis    MN     USA  44.880550  -93.216920              5751  \n",
       "216     New Orleans    LA     USA  29.993390  -90.258030              2094  \n",
       "227         Chicago    IL     USA  41.979600  -87.904460             14488  \n",
       "275         Seattle    WA     USA  47.448980 -122.309310              5890  \n",
       "276   San Francisco    CA     USA  37.615223 -122.389977              7581  \n",
       "283        San Juan    PR     USA  18.439420  -66.001830              1276  \n",
       "284  Salt Lake City    UT     USA  40.788390 -111.977770              4968  "
      ]
     },
     "execution_count": 14,
     "metadata": {},
     "output_type": "execute_result"
    }
   ],
   "source": [
    "airports_usa = airports_usa[airports_usa['IATA_CODE'].isin(flights_usa['IATA_CODE'])]\n",
    "flights_usa = flights_usa[flights_usa['IATA_CODE'].isin(airports_usa['IATA_CODE'])]\n",
    "\n",
    "airports_usa[\"ARRIVING_FLIGHTS\"] = flights_usa[\"ARRIVING_FLIGHTS\"].values\n",
    "airports_usa\n"
   ]
  },
  {
   "cell_type": "markdown",
   "metadata": {},
   "source": [
    "## 4. Visualiseren op de kaart\n",
    "Exercise 4: gebruik geopandas en seaborn om de gecombineerde data te plotten op een kaart."
   ]
  },
  {
   "cell_type": "code",
   "execution_count": 17,
   "metadata": {
    "scrolled": true
   },
   "outputs": [
    {
     "data": {
      "image/png": "[encoded data removed]",
      "text/plain": [
       "<Figure size 864x864 with 1 Axes>"
      ]
     },
     "metadata": {
      "needs_background": "light"
     },
     "output_type": "display_data"
    }
   ],
   "source": [
    "import matplotlib.pyplot as plt\n",
    "import seaborn as sns\n",
    "import geopandas\n",
    "\n",
    "world = geopandas.read_file(geopandas.datasets.get_path('naturalearth_lowres'))\n",
    "\n",
    "f, ax = plt.subplots(1, figsize=(12, 12))\n",
    "\n",
    "ax = world[world.continent == 'North America'].plot(\n",
    "    color='white', edgecolor='black', ax=ax)\n",
    "\n",
    "sns.scatterplot(x = airports_usa[\"LONGITUDE\"], y = airports_usa[\"LATITUDE\"], hue = \"ARRIVING_FLIGHTS\", hue_norm=(0, 24000) ,data=airports_usa, s = 100)\n",
    "\n",
    "plt.show()"
   ]
  }
 ],
 "metadata": {
  "kernelspec": {
   "display_name": "Python 3 (ipykernel)",
   "language": "python",
   "name": "python3"
  },
  "language_info": {
   "codemirror_mode": {
    "name": "ipython",
    "version": 3
   },
   "file_extension": ".py",
   "mimetype": "text/x-python",
   "name": "python",
   "nbconvert_exporter": "python",
   "pygments_lexer": "ipython3",
   "version": "3.9.7"
  }
 },
 "nbformat": 4,
 "nbformat_minor": 4
}
